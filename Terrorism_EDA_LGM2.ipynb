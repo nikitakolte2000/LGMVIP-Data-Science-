{
 "cells": [
  {
   "cell_type": "markdown",
   "id": "bc5094e6",
   "metadata": {},
   "source": [
    "## Let's Grow More (LGMVIP)- Data Science Intern"
   ]
  },
  {
   "cell_type": "markdown",
   "id": "6a0e11fe",
   "metadata": {},
   "source": [
    "### Author- Nikita Kolte"
   ]
  },
  {
   "cell_type": "markdown",
   "id": "f1061e0b",
   "metadata": {},
   "source": [
    "### Task 2: Exploratory Data Analysis on dataset Terrorism"
   ]
  },
  {
   "cell_type": "markdown",
   "id": "dce25c93",
   "metadata": {},
   "source": [
    "As a security/defense analyst, try to find out the hot zone of terrorism."
   ]
  },
  {
   "cell_type": "markdown",
   "id": "949a1676",
   "metadata": {},
   "source": [
    "### Dataset link:https://bit.ly/2TK5Xn5"
   ]
  },
  {
   "cell_type": "markdown",
   "id": "6532149c",
   "metadata": {},
   "source": [
    "#### Importing Libraries"
   ]
  },
  {
   "cell_type": "code",
   "execution_count": 101,
   "id": "05d44c0a",
   "metadata": {},
   "outputs": [],
   "source": [
    "import pandas as pd\n",
    "import numpy as np\n",
    "import matplotlib.pyplot as plt\n",
    "import seaborn as sns"
   ]
  },
  {
   "cell_type": "code",
   "execution_count": 102,
   "id": "08d2c874",
   "metadata": {},
   "outputs": [
    {
     "name": "stderr",
     "output_type": "stream",
     "text": [
      "C:\\Users\\Ankita\\anaconda3\\lib\\site-packages\\IPython\\core\\interactiveshell.py:3165: DtypeWarning: Columns (4,6,31,33,61,62,63,76,79,90,92,94,96,114,115,121) have mixed types.Specify dtype option on import or set low_memory=False.\n",
      "  has_raised = await self.run_ast_nodes(code_ast.body, cell_name,\n"
     ]
    }
   ],
   "source": [
    "df=pd.read_csv(\"C:\\\\Users\\\\Ankita\\\\Downloads\\\\globalterrorismdb_0718dist.csv\")"
   ]
  },
  {
   "cell_type": "code",
   "execution_count": 103,
   "id": "b76229a9",
   "metadata": {},
   "outputs": [
    {
     "data": {
      "text/html": [
       "<div>\n",
       "<style scoped>\n",
       "    .dataframe tbody tr th:only-of-type {\n",
       "        vertical-align: middle;\n",
       "    }\n",
       "\n",
       "    .dataframe tbody tr th {\n",
       "        vertical-align: top;\n",
       "    }\n",
       "\n",
       "    .dataframe thead th {\n",
       "        text-align: right;\n",
       "    }\n",
       "</style>\n",
       "<table border=\"1\" class=\"dataframe\">\n",
       "  <thead>\n",
       "    <tr style=\"text-align: right;\">\n",
       "      <th></th>\n",
       "      <th>eventid</th>\n",
       "      <th>iyear</th>\n",
       "      <th>imonth</th>\n",
       "      <th>iday</th>\n",
       "      <th>approxdate</th>\n",
       "      <th>extended</th>\n",
       "      <th>resolution</th>\n",
       "      <th>country</th>\n",
       "      <th>country_txt</th>\n",
       "      <th>region</th>\n",
       "      <th>...</th>\n",
       "      <th>addnotes</th>\n",
       "      <th>scite1</th>\n",
       "      <th>scite2</th>\n",
       "      <th>scite3</th>\n",
       "      <th>dbsource</th>\n",
       "      <th>INT_LOG</th>\n",
       "      <th>INT_IDEO</th>\n",
       "      <th>INT_MISC</th>\n",
       "      <th>INT_ANY</th>\n",
       "      <th>related</th>\n",
       "    </tr>\n",
       "  </thead>\n",
       "  <tbody>\n",
       "    <tr>\n",
       "      <th>0</th>\n",
       "      <td>197000000001</td>\n",
       "      <td>1970</td>\n",
       "      <td>7</td>\n",
       "      <td>2</td>\n",
       "      <td>NaN</td>\n",
       "      <td>0</td>\n",
       "      <td>NaN</td>\n",
       "      <td>58</td>\n",
       "      <td>Dominican Republic</td>\n",
       "      <td>2</td>\n",
       "      <td>...</td>\n",
       "      <td>NaN</td>\n",
       "      <td>NaN</td>\n",
       "      <td>NaN</td>\n",
       "      <td>NaN</td>\n",
       "      <td>PGIS</td>\n",
       "      <td>0</td>\n",
       "      <td>0</td>\n",
       "      <td>0</td>\n",
       "      <td>0</td>\n",
       "      <td>NaN</td>\n",
       "    </tr>\n",
       "    <tr>\n",
       "      <th>1</th>\n",
       "      <td>197000000002</td>\n",
       "      <td>1970</td>\n",
       "      <td>0</td>\n",
       "      <td>0</td>\n",
       "      <td>NaN</td>\n",
       "      <td>0</td>\n",
       "      <td>NaN</td>\n",
       "      <td>130</td>\n",
       "      <td>Mexico</td>\n",
       "      <td>1</td>\n",
       "      <td>...</td>\n",
       "      <td>NaN</td>\n",
       "      <td>NaN</td>\n",
       "      <td>NaN</td>\n",
       "      <td>NaN</td>\n",
       "      <td>PGIS</td>\n",
       "      <td>0</td>\n",
       "      <td>1</td>\n",
       "      <td>1</td>\n",
       "      <td>1</td>\n",
       "      <td>NaN</td>\n",
       "    </tr>\n",
       "    <tr>\n",
       "      <th>2</th>\n",
       "      <td>197001000001</td>\n",
       "      <td>1970</td>\n",
       "      <td>1</td>\n",
       "      <td>0</td>\n",
       "      <td>NaN</td>\n",
       "      <td>0</td>\n",
       "      <td>NaN</td>\n",
       "      <td>160</td>\n",
       "      <td>Philippines</td>\n",
       "      <td>5</td>\n",
       "      <td>...</td>\n",
       "      <td>NaN</td>\n",
       "      <td>NaN</td>\n",
       "      <td>NaN</td>\n",
       "      <td>NaN</td>\n",
       "      <td>PGIS</td>\n",
       "      <td>-9</td>\n",
       "      <td>-9</td>\n",
       "      <td>1</td>\n",
       "      <td>1</td>\n",
       "      <td>NaN</td>\n",
       "    </tr>\n",
       "    <tr>\n",
       "      <th>3</th>\n",
       "      <td>197001000002</td>\n",
       "      <td>1970</td>\n",
       "      <td>1</td>\n",
       "      <td>0</td>\n",
       "      <td>NaN</td>\n",
       "      <td>0</td>\n",
       "      <td>NaN</td>\n",
       "      <td>78</td>\n",
       "      <td>Greece</td>\n",
       "      <td>8</td>\n",
       "      <td>...</td>\n",
       "      <td>NaN</td>\n",
       "      <td>NaN</td>\n",
       "      <td>NaN</td>\n",
       "      <td>NaN</td>\n",
       "      <td>PGIS</td>\n",
       "      <td>-9</td>\n",
       "      <td>-9</td>\n",
       "      <td>1</td>\n",
       "      <td>1</td>\n",
       "      <td>NaN</td>\n",
       "    </tr>\n",
       "    <tr>\n",
       "      <th>4</th>\n",
       "      <td>197001000003</td>\n",
       "      <td>1970</td>\n",
       "      <td>1</td>\n",
       "      <td>0</td>\n",
       "      <td>NaN</td>\n",
       "      <td>0</td>\n",
       "      <td>NaN</td>\n",
       "      <td>101</td>\n",
       "      <td>Japan</td>\n",
       "      <td>4</td>\n",
       "      <td>...</td>\n",
       "      <td>NaN</td>\n",
       "      <td>NaN</td>\n",
       "      <td>NaN</td>\n",
       "      <td>NaN</td>\n",
       "      <td>PGIS</td>\n",
       "      <td>-9</td>\n",
       "      <td>-9</td>\n",
       "      <td>1</td>\n",
       "      <td>1</td>\n",
       "      <td>NaN</td>\n",
       "    </tr>\n",
       "  </tbody>\n",
       "</table>\n",
       "<p>5 rows × 135 columns</p>\n",
       "</div>"
      ],
      "text/plain": [
       "        eventid  iyear  imonth  iday approxdate  extended resolution  country  \\\n",
       "0  197000000001   1970       7     2        NaN         0        NaN       58   \n",
       "1  197000000002   1970       0     0        NaN         0        NaN      130   \n",
       "2  197001000001   1970       1     0        NaN         0        NaN      160   \n",
       "3  197001000002   1970       1     0        NaN         0        NaN       78   \n",
       "4  197001000003   1970       1     0        NaN         0        NaN      101   \n",
       "\n",
       "          country_txt  region  ... addnotes scite1 scite2  scite3  dbsource  \\\n",
       "0  Dominican Republic       2  ...      NaN    NaN    NaN     NaN      PGIS   \n",
       "1              Mexico       1  ...      NaN    NaN    NaN     NaN      PGIS   \n",
       "2         Philippines       5  ...      NaN    NaN    NaN     NaN      PGIS   \n",
       "3              Greece       8  ...      NaN    NaN    NaN     NaN      PGIS   \n",
       "4               Japan       4  ...      NaN    NaN    NaN     NaN      PGIS   \n",
       "\n",
       "   INT_LOG  INT_IDEO INT_MISC INT_ANY  related  \n",
       "0        0         0        0       0      NaN  \n",
       "1        0         1        1       1      NaN  \n",
       "2       -9        -9        1       1      NaN  \n",
       "3       -9        -9        1       1      NaN  \n",
       "4       -9        -9        1       1      NaN  \n",
       "\n",
       "[5 rows x 135 columns]"
      ]
     },
     "execution_count": 103,
     "metadata": {},
     "output_type": "execute_result"
    }
   ],
   "source": [
    "df.head()"
   ]
  },
  {
   "cell_type": "code",
   "execution_count": 104,
   "id": "3a7e0bc8",
   "metadata": {},
   "outputs": [
    {
     "data": {
      "text/plain": [
       "eventid            0\n",
       "iyear              0\n",
       "imonth             0\n",
       "iday               0\n",
       "approxdate    172452\n",
       "               ...  \n",
       "INT_LOG            0\n",
       "INT_IDEO           0\n",
       "INT_MISC           0\n",
       "INT_ANY            0\n",
       "related       156653\n",
       "Length: 135, dtype: int64"
      ]
     },
     "execution_count": 104,
     "metadata": {},
     "output_type": "execute_result"
    }
   ],
   "source": [
    "# Checking Missing values\n",
    "df.isnull().sum()"
   ]
  },
  {
   "cell_type": "code",
   "execution_count": 105,
   "id": "199bf0ba",
   "metadata": {},
   "outputs": [
    {
     "data": {
      "text/plain": [
       "Index(['eventid', 'iyear', 'imonth', 'iday', 'approxdate', 'extended',\n",
       "       'resolution', 'country', 'country_txt', 'region',\n",
       "       ...\n",
       "       'addnotes', 'scite1', 'scite2', 'scite3', 'dbsource', 'INT_LOG',\n",
       "       'INT_IDEO', 'INT_MISC', 'INT_ANY', 'related'],\n",
       "      dtype='object', length=135)"
      ]
     },
     "execution_count": 105,
     "metadata": {},
     "output_type": "execute_result"
    }
   ],
   "source": [
    "df.columns"
   ]
  },
  {
   "cell_type": "code",
   "execution_count": 106,
   "id": "462acbcf",
   "metadata": {},
   "outputs": [
    {
     "data": {
      "text/plain": [
       "array(['eventid', 'iyear', 'imonth', 'iday', 'approxdate', 'extended',\n",
       "       'resolution', 'country', 'country_txt', 'region', 'region_txt',\n",
       "       'provstate', 'city', 'latitude', 'longitude', 'specificity',\n",
       "       'vicinity', 'location', 'summary', 'crit1', 'crit2', 'crit3',\n",
       "       'doubtterr', 'alternative', 'alternative_txt', 'multiple',\n",
       "       'success', 'suicide', 'attacktype1', 'attacktype1_txt',\n",
       "       'attacktype2', 'attacktype2_txt', 'attacktype3', 'attacktype3_txt',\n",
       "       'targtype1', 'targtype1_txt', 'targsubtype1', 'targsubtype1_txt',\n",
       "       'corp1', 'target1', 'natlty1', 'natlty1_txt', 'targtype2',\n",
       "       'targtype2_txt', 'targsubtype2', 'targsubtype2_txt', 'corp2',\n",
       "       'target2', 'natlty2', 'natlty2_txt', 'targtype3', 'targtype3_txt',\n",
       "       'targsubtype3', 'targsubtype3_txt', 'corp3', 'target3', 'natlty3',\n",
       "       'natlty3_txt', 'gname', 'gsubname', 'gname2', 'gsubname2',\n",
       "       'gname3', 'gsubname3', 'motive', 'guncertain1', 'guncertain2',\n",
       "       'guncertain3', 'individual', 'nperps', 'nperpcap', 'claimed',\n",
       "       'claimmode', 'claimmode_txt', 'claim2', 'claimmode2',\n",
       "       'claimmode2_txt', 'claim3', 'claimmode3', 'claimmode3_txt',\n",
       "       'compclaim', 'weaptype1', 'weaptype1_txt', 'weapsubtype1',\n",
       "       'weapsubtype1_txt', 'weaptype2', 'weaptype2_txt', 'weapsubtype2',\n",
       "       'weapsubtype2_txt', 'weaptype3', 'weaptype3_txt', 'weapsubtype3',\n",
       "       'weapsubtype3_txt', 'weaptype4', 'weaptype4_txt', 'weapsubtype4',\n",
       "       'weapsubtype4_txt', 'weapdetail', 'nkill', 'nkillus', 'nkillter',\n",
       "       'nwound', 'nwoundus', 'nwoundte', 'property', 'propextent',\n",
       "       'propextent_txt', 'propvalue', 'propcomment', 'ishostkid',\n",
       "       'nhostkid', 'nhostkidus', 'nhours', 'ndays', 'divert',\n",
       "       'kidhijcountry', 'ransom', 'ransomamt', 'ransomamtus',\n",
       "       'ransompaid', 'ransompaidus', 'ransomnote', 'hostkidoutcome',\n",
       "       'hostkidoutcome_txt', 'nreleased', 'addnotes', 'scite1', 'scite2',\n",
       "       'scite3', 'dbsource', 'INT_LOG', 'INT_IDEO', 'INT_MISC', 'INT_ANY',\n",
       "       'related'], dtype=object)"
      ]
     },
     "execution_count": 106,
     "metadata": {},
     "output_type": "execute_result"
    }
   ],
   "source": [
    "df.columns.values"
   ]
  },
  {
   "cell_type": "code",
   "execution_count": 107,
   "id": "9919e226",
   "metadata": {},
   "outputs": [
    {
     "data": {
      "text/html": [
       "<div>\n",
       "<style scoped>\n",
       "    .dataframe tbody tr th:only-of-type {\n",
       "        vertical-align: middle;\n",
       "    }\n",
       "\n",
       "    .dataframe tbody tr th {\n",
       "        vertical-align: top;\n",
       "    }\n",
       "\n",
       "    .dataframe thead th {\n",
       "        text-align: right;\n",
       "    }\n",
       "</style>\n",
       "<table border=\"1\" class=\"dataframe\">\n",
       "  <thead>\n",
       "    <tr style=\"text-align: right;\">\n",
       "      <th></th>\n",
       "      <th>eventid</th>\n",
       "      <th>iyear</th>\n",
       "      <th>imonth</th>\n",
       "      <th>country</th>\n",
       "      <th>region</th>\n",
       "      <th>provstate</th>\n",
       "      <th>city</th>\n",
       "      <th>crit1</th>\n",
       "      <th>crit2</th>\n",
       "      <th>crit3</th>\n",
       "      <th>...</th>\n",
       "      <th>suicide</th>\n",
       "      <th>attacktype1</th>\n",
       "      <th>targtype1</th>\n",
       "      <th>natlty1</th>\n",
       "      <th>gname</th>\n",
       "      <th>guncertain1</th>\n",
       "      <th>claimed</th>\n",
       "      <th>weaptype1</th>\n",
       "      <th>nkill</th>\n",
       "      <th>nwound</th>\n",
       "    </tr>\n",
       "  </thead>\n",
       "  <tbody>\n",
       "    <tr>\n",
       "      <th>0</th>\n",
       "      <td>197000000001</td>\n",
       "      <td>1970</td>\n",
       "      <td>7</td>\n",
       "      <td>58</td>\n",
       "      <td>2</td>\n",
       "      <td>NaN</td>\n",
       "      <td>Santo Domingo</td>\n",
       "      <td>1</td>\n",
       "      <td>1</td>\n",
       "      <td>1</td>\n",
       "      <td>...</td>\n",
       "      <td>0</td>\n",
       "      <td>1</td>\n",
       "      <td>14</td>\n",
       "      <td>58.0</td>\n",
       "      <td>MANO-D</td>\n",
       "      <td>0.0</td>\n",
       "      <td>NaN</td>\n",
       "      <td>13</td>\n",
       "      <td>1.0</td>\n",
       "      <td>0.0</td>\n",
       "    </tr>\n",
       "    <tr>\n",
       "      <th>1</th>\n",
       "      <td>197000000002</td>\n",
       "      <td>1970</td>\n",
       "      <td>0</td>\n",
       "      <td>130</td>\n",
       "      <td>1</td>\n",
       "      <td>Federal</td>\n",
       "      <td>Mexico city</td>\n",
       "      <td>1</td>\n",
       "      <td>1</td>\n",
       "      <td>1</td>\n",
       "      <td>...</td>\n",
       "      <td>0</td>\n",
       "      <td>6</td>\n",
       "      <td>7</td>\n",
       "      <td>21.0</td>\n",
       "      <td>23rd of September Communist League</td>\n",
       "      <td>0.0</td>\n",
       "      <td>NaN</td>\n",
       "      <td>13</td>\n",
       "      <td>0.0</td>\n",
       "      <td>0.0</td>\n",
       "    </tr>\n",
       "    <tr>\n",
       "      <th>2</th>\n",
       "      <td>197001000001</td>\n",
       "      <td>1970</td>\n",
       "      <td>1</td>\n",
       "      <td>160</td>\n",
       "      <td>5</td>\n",
       "      <td>Tarlac</td>\n",
       "      <td>Unknown</td>\n",
       "      <td>1</td>\n",
       "      <td>1</td>\n",
       "      <td>1</td>\n",
       "      <td>...</td>\n",
       "      <td>0</td>\n",
       "      <td>1</td>\n",
       "      <td>10</td>\n",
       "      <td>217.0</td>\n",
       "      <td>Unknown</td>\n",
       "      <td>0.0</td>\n",
       "      <td>NaN</td>\n",
       "      <td>13</td>\n",
       "      <td>1.0</td>\n",
       "      <td>0.0</td>\n",
       "    </tr>\n",
       "    <tr>\n",
       "      <th>3</th>\n",
       "      <td>197001000002</td>\n",
       "      <td>1970</td>\n",
       "      <td>1</td>\n",
       "      <td>78</td>\n",
       "      <td>8</td>\n",
       "      <td>Attica</td>\n",
       "      <td>Athens</td>\n",
       "      <td>1</td>\n",
       "      <td>1</td>\n",
       "      <td>1</td>\n",
       "      <td>...</td>\n",
       "      <td>0</td>\n",
       "      <td>3</td>\n",
       "      <td>7</td>\n",
       "      <td>217.0</td>\n",
       "      <td>Unknown</td>\n",
       "      <td>0.0</td>\n",
       "      <td>NaN</td>\n",
       "      <td>6</td>\n",
       "      <td>NaN</td>\n",
       "      <td>NaN</td>\n",
       "    </tr>\n",
       "    <tr>\n",
       "      <th>4</th>\n",
       "      <td>197001000003</td>\n",
       "      <td>1970</td>\n",
       "      <td>1</td>\n",
       "      <td>101</td>\n",
       "      <td>4</td>\n",
       "      <td>Fukouka</td>\n",
       "      <td>Fukouka</td>\n",
       "      <td>1</td>\n",
       "      <td>1</td>\n",
       "      <td>1</td>\n",
       "      <td>...</td>\n",
       "      <td>0</td>\n",
       "      <td>7</td>\n",
       "      <td>7</td>\n",
       "      <td>217.0</td>\n",
       "      <td>Unknown</td>\n",
       "      <td>0.0</td>\n",
       "      <td>NaN</td>\n",
       "      <td>8</td>\n",
       "      <td>NaN</td>\n",
       "      <td>NaN</td>\n",
       "    </tr>\n",
       "  </tbody>\n",
       "</table>\n",
       "<p>5 rows × 21 columns</p>\n",
       "</div>"
      ],
      "text/plain": [
       "        eventid  iyear  imonth  country  region provstate           city  \\\n",
       "0  197000000001   1970       7       58       2       NaN  Santo Domingo   \n",
       "1  197000000002   1970       0      130       1   Federal    Mexico city   \n",
       "2  197001000001   1970       1      160       5    Tarlac        Unknown   \n",
       "3  197001000002   1970       1       78       8    Attica         Athens   \n",
       "4  197001000003   1970       1      101       4   Fukouka        Fukouka   \n",
       "\n",
       "   crit1  crit2  crit3  ...  suicide  attacktype1  targtype1  natlty1  \\\n",
       "0      1      1      1  ...        0            1         14     58.0   \n",
       "1      1      1      1  ...        0            6          7     21.0   \n",
       "2      1      1      1  ...        0            1         10    217.0   \n",
       "3      1      1      1  ...        0            3          7    217.0   \n",
       "4      1      1      1  ...        0            7          7    217.0   \n",
       "\n",
       "                                gname guncertain1  claimed  weaptype1  nkill  \\\n",
       "0                              MANO-D         0.0      NaN         13    1.0   \n",
       "1  23rd of September Communist League         0.0      NaN         13    0.0   \n",
       "2                             Unknown         0.0      NaN         13    1.0   \n",
       "3                             Unknown         0.0      NaN          6    NaN   \n",
       "4                             Unknown         0.0      NaN          8    NaN   \n",
       "\n",
       "   nwound  \n",
       "0     0.0  \n",
       "1     0.0  \n",
       "2     0.0  \n",
       "3     NaN  \n",
       "4     NaN  \n",
       "\n",
       "[5 rows x 21 columns]"
      ]
     },
     "execution_count": 107,
     "metadata": {},
     "output_type": "execute_result"
    }
   ],
   "source": [
    "#considering reqd. columns only\n",
    "df=df[['eventid', 'iyear', 'imonth', 'country', 'region','provstate','city','crit1', 'crit2', 'crit3','success', 'suicide', 'attacktype1','targtype1','natlty1','gname','guncertain1','claimed','weaptype1','nkill','nwound']]\n",
    "df.head()"
   ]
  },
  {
   "cell_type": "code",
   "execution_count": 108,
   "id": "6e9ae446",
   "metadata": {},
   "outputs": [
    {
     "data": {
      "text/plain": [
       "eventid        False\n",
       "iyear          False\n",
       "imonth         False\n",
       "country        False\n",
       "region         False\n",
       "provstate       True\n",
       "city            True\n",
       "crit1          False\n",
       "crit2          False\n",
       "crit3          False\n",
       "success        False\n",
       "suicide        False\n",
       "attacktype1    False\n",
       "targtype1      False\n",
       "natlty1         True\n",
       "gname          False\n",
       "guncertain1     True\n",
       "claimed         True\n",
       "weaptype1      False\n",
       "nkill           True\n",
       "nwound          True\n",
       "dtype: bool"
      ]
     },
     "execution_count": 108,
     "metadata": {},
     "output_type": "execute_result"
    }
   ],
   "source": [
    "df.isnull().any()"
   ]
  },
  {
   "cell_type": "code",
   "execution_count": 109,
   "id": "57d606e0",
   "metadata": {},
   "outputs": [],
   "source": [
    "df=df.dropna()"
   ]
  },
  {
   "cell_type": "code",
   "execution_count": 110,
   "id": "9e215f24",
   "metadata": {},
   "outputs": [
    {
     "data": {
      "text/plain": [
       "eventid        False\n",
       "iyear          False\n",
       "imonth         False\n",
       "country        False\n",
       "region         False\n",
       "provstate      False\n",
       "city           False\n",
       "crit1          False\n",
       "crit2          False\n",
       "crit3          False\n",
       "success        False\n",
       "suicide        False\n",
       "attacktype1    False\n",
       "targtype1      False\n",
       "natlty1        False\n",
       "gname          False\n",
       "guncertain1    False\n",
       "claimed        False\n",
       "weaptype1      False\n",
       "nkill          False\n",
       "nwound         False\n",
       "dtype: bool"
      ]
     },
     "execution_count": 110,
     "metadata": {},
     "output_type": "execute_result"
    }
   ],
   "source": [
    "df.isnull().any()"
   ]
  },
  {
   "cell_type": "markdown",
   "id": "8839cb90",
   "metadata": {},
   "source": [
    "Now our dataset has no missing value and is ready for analysis."
   ]
  },
  {
   "cell_type": "code",
   "execution_count": 111,
   "id": "e618f615",
   "metadata": {},
   "outputs": [
    {
     "data": {
      "text/html": [
       "<div>\n",
       "<style scoped>\n",
       "    .dataframe tbody tr th:only-of-type {\n",
       "        vertical-align: middle;\n",
       "    }\n",
       "\n",
       "    .dataframe tbody tr th {\n",
       "        vertical-align: top;\n",
       "    }\n",
       "\n",
       "    .dataframe thead th {\n",
       "        text-align: right;\n",
       "    }\n",
       "</style>\n",
       "<table border=\"1\" class=\"dataframe\">\n",
       "  <thead>\n",
       "    <tr style=\"text-align: right;\">\n",
       "      <th></th>\n",
       "      <th>eventid</th>\n",
       "      <th>iyear</th>\n",
       "      <th>imonth</th>\n",
       "      <th>country</th>\n",
       "      <th>region</th>\n",
       "      <th>crit1</th>\n",
       "      <th>crit2</th>\n",
       "      <th>crit3</th>\n",
       "      <th>success</th>\n",
       "      <th>suicide</th>\n",
       "      <th>attacktype1</th>\n",
       "      <th>targtype1</th>\n",
       "      <th>natlty1</th>\n",
       "      <th>guncertain1</th>\n",
       "      <th>claimed</th>\n",
       "      <th>weaptype1</th>\n",
       "      <th>nkill</th>\n",
       "      <th>nwound</th>\n",
       "    </tr>\n",
       "  </thead>\n",
       "  <tbody>\n",
       "    <tr>\n",
       "      <th>count</th>\n",
       "      <td>1.050730e+05</td>\n",
       "      <td>105073.000000</td>\n",
       "      <td>105073.000000</td>\n",
       "      <td>105073.000000</td>\n",
       "      <td>105073.000000</td>\n",
       "      <td>105073.000000</td>\n",
       "      <td>105073.000000</td>\n",
       "      <td>105073.000000</td>\n",
       "      <td>105073.000000</td>\n",
       "      <td>105073.000000</td>\n",
       "      <td>105073.000000</td>\n",
       "      <td>105073.000000</td>\n",
       "      <td>105073.000000</td>\n",
       "      <td>105073.000000</td>\n",
       "      <td>105073.000000</td>\n",
       "      <td>105073.000000</td>\n",
       "      <td>105073.000000</td>\n",
       "      <td>105073.000000</td>\n",
       "    </tr>\n",
       "    <tr>\n",
       "      <th>mean</th>\n",
       "      <td>2.011576e+11</td>\n",
       "      <td>2011.509750</td>\n",
       "      <td>6.469712</td>\n",
       "      <td>124.716292</td>\n",
       "      <td>7.863542</td>\n",
       "      <td>0.988951</td>\n",
       "      <td>0.995746</td>\n",
       "      <td>0.886184</td>\n",
       "      <td>0.870471</td>\n",
       "      <td>0.056218</td>\n",
       "      <td>3.272401</td>\n",
       "      <td>8.624109</td>\n",
       "      <td>126.954403</td>\n",
       "      <td>0.106811</td>\n",
       "      <td>0.057598</td>\n",
       "      <td>6.308452</td>\n",
       "      <td>2.145699</td>\n",
       "      <td>3.802804</td>\n",
       "    </tr>\n",
       "    <tr>\n",
       "      <th>std</th>\n",
       "      <td>5.959570e+08</td>\n",
       "      <td>5.959394</td>\n",
       "      <td>3.383224</td>\n",
       "      <td>96.699951</td>\n",
       "      <td>2.460104</td>\n",
       "      <td>0.104535</td>\n",
       "      <td>0.065086</td>\n",
       "      <td>0.317589</td>\n",
       "      <td>0.335786</td>\n",
       "      <td>0.230343</td>\n",
       "      <td>1.804304</td>\n",
       "      <td>6.522664</td>\n",
       "      <td>93.529263</td>\n",
       "      <td>0.308875</td>\n",
       "      <td>1.052135</td>\n",
       "      <td>1.914574</td>\n",
       "      <td>9.820571</td>\n",
       "      <td>40.633761</td>\n",
       "    </tr>\n",
       "    <tr>\n",
       "      <th>min</th>\n",
       "      <td>1.970010e+11</td>\n",
       "      <td>1970.000000</td>\n",
       "      <td>1.000000</td>\n",
       "      <td>4.000000</td>\n",
       "      <td>1.000000</td>\n",
       "      <td>0.000000</td>\n",
       "      <td>0.000000</td>\n",
       "      <td>0.000000</td>\n",
       "      <td>0.000000</td>\n",
       "      <td>0.000000</td>\n",
       "      <td>1.000000</td>\n",
       "      <td>1.000000</td>\n",
       "      <td>4.000000</td>\n",
       "      <td>0.000000</td>\n",
       "      <td>-9.000000</td>\n",
       "      <td>1.000000</td>\n",
       "      <td>0.000000</td>\n",
       "      <td>0.000000</td>\n",
       "    </tr>\n",
       "    <tr>\n",
       "      <th>25%</th>\n",
       "      <td>2.010011e+11</td>\n",
       "      <td>2010.000000</td>\n",
       "      <td>4.000000</td>\n",
       "      <td>92.000000</td>\n",
       "      <td>6.000000</td>\n",
       "      <td>1.000000</td>\n",
       "      <td>1.000000</td>\n",
       "      <td>1.000000</td>\n",
       "      <td>1.000000</td>\n",
       "      <td>0.000000</td>\n",
       "      <td>2.000000</td>\n",
       "      <td>3.000000</td>\n",
       "      <td>92.000000</td>\n",
       "      <td>0.000000</td>\n",
       "      <td>0.000000</td>\n",
       "      <td>5.000000</td>\n",
       "      <td>0.000000</td>\n",
       "      <td>0.000000</td>\n",
       "    </tr>\n",
       "    <tr>\n",
       "      <th>50%</th>\n",
       "      <td>2.013102e+11</td>\n",
       "      <td>2013.000000</td>\n",
       "      <td>6.000000</td>\n",
       "      <td>95.000000</td>\n",
       "      <td>8.000000</td>\n",
       "      <td>1.000000</td>\n",
       "      <td>1.000000</td>\n",
       "      <td>1.000000</td>\n",
       "      <td>1.000000</td>\n",
       "      <td>0.000000</td>\n",
       "      <td>3.000000</td>\n",
       "      <td>4.000000</td>\n",
       "      <td>97.000000</td>\n",
       "      <td>0.000000</td>\n",
       "      <td>0.000000</td>\n",
       "      <td>6.000000</td>\n",
       "      <td>1.000000</td>\n",
       "      <td>0.000000</td>\n",
       "    </tr>\n",
       "    <tr>\n",
       "      <th>75%</th>\n",
       "      <td>2.015083e+11</td>\n",
       "      <td>2015.000000</td>\n",
       "      <td>9.000000</td>\n",
       "      <td>160.000000</td>\n",
       "      <td>10.000000</td>\n",
       "      <td>1.000000</td>\n",
       "      <td>1.000000</td>\n",
       "      <td>1.000000</td>\n",
       "      <td>1.000000</td>\n",
       "      <td>0.000000</td>\n",
       "      <td>3.000000</td>\n",
       "      <td>14.000000</td>\n",
       "      <td>160.000000</td>\n",
       "      <td>0.000000</td>\n",
       "      <td>0.000000</td>\n",
       "      <td>6.000000</td>\n",
       "      <td>2.000000</td>\n",
       "      <td>3.000000</td>\n",
       "    </tr>\n",
       "    <tr>\n",
       "      <th>max</th>\n",
       "      <td>2.017123e+11</td>\n",
       "      <td>2017.000000</td>\n",
       "      <td>12.000000</td>\n",
       "      <td>1004.000000</td>\n",
       "      <td>12.000000</td>\n",
       "      <td>1.000000</td>\n",
       "      <td>1.000000</td>\n",
       "      <td>1.000000</td>\n",
       "      <td>1.000000</td>\n",
       "      <td>1.000000</td>\n",
       "      <td>9.000000</td>\n",
       "      <td>22.000000</td>\n",
       "      <td>1004.000000</td>\n",
       "      <td>1.000000</td>\n",
       "      <td>1.000000</td>\n",
       "      <td>13.000000</td>\n",
       "      <td>1384.000000</td>\n",
       "      <td>8191.000000</td>\n",
       "    </tr>\n",
       "  </tbody>\n",
       "</table>\n",
       "</div>"
      ],
      "text/plain": [
       "            eventid          iyear         imonth        country  \\\n",
       "count  1.050730e+05  105073.000000  105073.000000  105073.000000   \n",
       "mean   2.011576e+11    2011.509750       6.469712     124.716292   \n",
       "std    5.959570e+08       5.959394       3.383224      96.699951   \n",
       "min    1.970010e+11    1970.000000       1.000000       4.000000   \n",
       "25%    2.010011e+11    2010.000000       4.000000      92.000000   \n",
       "50%    2.013102e+11    2013.000000       6.000000      95.000000   \n",
       "75%    2.015083e+11    2015.000000       9.000000     160.000000   \n",
       "max    2.017123e+11    2017.000000      12.000000    1004.000000   \n",
       "\n",
       "              region          crit1          crit2          crit3  \\\n",
       "count  105073.000000  105073.000000  105073.000000  105073.000000   \n",
       "mean        7.863542       0.988951       0.995746       0.886184   \n",
       "std         2.460104       0.104535       0.065086       0.317589   \n",
       "min         1.000000       0.000000       0.000000       0.000000   \n",
       "25%         6.000000       1.000000       1.000000       1.000000   \n",
       "50%         8.000000       1.000000       1.000000       1.000000   \n",
       "75%        10.000000       1.000000       1.000000       1.000000   \n",
       "max        12.000000       1.000000       1.000000       1.000000   \n",
       "\n",
       "             success        suicide    attacktype1      targtype1  \\\n",
       "count  105073.000000  105073.000000  105073.000000  105073.000000   \n",
       "mean        0.870471       0.056218       3.272401       8.624109   \n",
       "std         0.335786       0.230343       1.804304       6.522664   \n",
       "min         0.000000       0.000000       1.000000       1.000000   \n",
       "25%         1.000000       0.000000       2.000000       3.000000   \n",
       "50%         1.000000       0.000000       3.000000       4.000000   \n",
       "75%         1.000000       0.000000       3.000000      14.000000   \n",
       "max         1.000000       1.000000       9.000000      22.000000   \n",
       "\n",
       "             natlty1    guncertain1        claimed      weaptype1  \\\n",
       "count  105073.000000  105073.000000  105073.000000  105073.000000   \n",
       "mean      126.954403       0.106811       0.057598       6.308452   \n",
       "std        93.529263       0.308875       1.052135       1.914574   \n",
       "min         4.000000       0.000000      -9.000000       1.000000   \n",
       "25%        92.000000       0.000000       0.000000       5.000000   \n",
       "50%        97.000000       0.000000       0.000000       6.000000   \n",
       "75%       160.000000       0.000000       0.000000       6.000000   \n",
       "max      1004.000000       1.000000       1.000000      13.000000   \n",
       "\n",
       "               nkill         nwound  \n",
       "count  105073.000000  105073.000000  \n",
       "mean        2.145699       3.802804  \n",
       "std         9.820571      40.633761  \n",
       "min         0.000000       0.000000  \n",
       "25%         0.000000       0.000000  \n",
       "50%         1.000000       0.000000  \n",
       "75%         2.000000       3.000000  \n",
       "max      1384.000000    8191.000000  "
      ]
     },
     "execution_count": 111,
     "metadata": {},
     "output_type": "execute_result"
    }
   ],
   "source": [
    "df.describe()"
   ]
  },
  {
   "cell_type": "markdown",
   "id": "b97f9f4f",
   "metadata": {},
   "source": [
    "## Visualization"
   ]
  },
  {
   "cell_type": "markdown",
   "id": "8dcff997",
   "metadata": {},
   "source": [
    "### Number of terrorism attacks by attack type"
   ]
  },
  {
   "cell_type": "code",
   "execution_count": 112,
   "id": "9082c57c",
   "metadata": {},
   "outputs": [
    {
     "data": {
      "text/plain": [
       "3    57011\n",
       "2    24546\n",
       "1     6979\n",
       "7     6029\n",
       "6     5554\n",
       "9     3736\n",
       "8      591\n",
       "5      350\n",
       "4      277\n",
       "Name: attacktype1, dtype: int64"
      ]
     },
     "execution_count": 112,
     "metadata": {},
     "output_type": "execute_result"
    }
   ],
   "source": [
    "# attack types we have\n",
    "df['attacktype1'].value_counts()"
   ]
  },
  {
   "cell_type": "code",
   "execution_count": 113,
   "id": "1d9f97ce",
   "metadata": {},
   "outputs": [
    {
     "data": {
      "text/plain": [
       "Text(0.5, 1.0, 'No.of attacks per type')"
      ]
     },
     "execution_count": 113,
     "metadata": {},
     "output_type": "execute_result"
    },
    {
     "data": {
      "image/png": "[encoded data removed]",
      "text/plain": [
       "<Figure size 1080x432 with 1 Axes>"
      ]
     },
     "metadata": {
      "needs_background": "light"
     },
     "output_type": "display_data"
    }
   ],
   "source": [
    "plt.subplots(figsize=(15,6))\n",
    "sns.countplot(x='attacktype1',data=df)\n",
    "plt.xlabel('Attack type')\n",
    "plt.ylabel('No.of attacks')\n",
    "plt.title('No.of attacks per type')"
   ]
  },
  {
   "cell_type": "markdown",
   "id": "e61d29f7",
   "metadata": {},
   "source": [
    "### Terrorism attacks over years"
   ]
  },
  {
   "cell_type": "code",
   "execution_count": 114,
   "id": "ad01b0a5",
   "metadata": {},
   "outputs": [
    {
     "data": {
      "text/plain": [
       "Text(0.5, 1.0, 'terrorism attacks over years')"
      ]
     },
     "execution_count": 114,
     "metadata": {},
     "output_type": "execute_result"
    },
    {
     "data": {
      "image/png": "[encoded data removed]",
      "text/plain": [
       "<Figure size 432x288 with 1 Axes>"
      ]
     },
     "metadata": {
      "needs_background": "light"
     },
     "output_type": "display_data"
    }
   ],
   "source": [
    "df['iyear'].plot.hist() \n",
    "plt.xlabel('year')\n",
    "plt.ylabel('number of attacks')\n",
    "plt.title('terrorism attacks over years')"
   ]
  },
  {
   "cell_type": "markdown",
   "id": "e93d1d12",
   "metadata": {},
   "source": [
    "### Number of success and failure status of terrorism attacks"
   ]
  },
  {
   "cell_type": "code",
   "execution_count": 115,
   "id": "ba368a47",
   "metadata": {},
   "outputs": [
    {
     "data": {
      "text/plain": [
       "1    91463\n",
       "0    13610\n",
       "Name: success, dtype: int64"
      ]
     },
     "execution_count": 115,
     "metadata": {},
     "output_type": "execute_result"
    }
   ],
   "source": [
    "df['success'].value_counts()"
   ]
  },
  {
   "cell_type": "code",
   "execution_count": 116,
   "id": "1138635e",
   "metadata": {},
   "outputs": [
    {
     "data": {
      "text/plain": [
       "Text(0.5, 1.0, 'No. of success and failure of terrorism attacks')"
      ]
     },
     "execution_count": 116,
     "metadata": {},
     "output_type": "execute_result"
    },
    {
     "data": {
      "image/png": "[encoded data removed]",
      "text/plain": [
       "<Figure size 432x288 with 1 Axes>"
      ]
     },
     "metadata": {
      "needs_background": "light"
     },
     "output_type": "display_data"
    }
   ],
   "source": [
    "sns.countplot(x='success',data=df)\n",
    "plt.xlabel('sucess status')\n",
    "plt.ylabel('No.of attacks')\n",
    "plt.title('No. of success and failure of terrorism attacks')"
   ]
  },
  {
   "cell_type": "markdown",
   "id": "99621af7",
   "metadata": {},
   "source": [
    "### Top 5 cities with highest terrorism attacks"
   ]
  },
  {
   "cell_type": "code",
   "execution_count": 117,
   "id": "592ce15a",
   "metadata": {},
   "outputs": [
    {
     "data": {
      "text/plain": [
       "Baghdad      7333\n",
       "Unknown      4264\n",
       "Mosul        2110\n",
       "Karachi      1535\n",
       "Mogadishu    1261\n",
       "Name: city, dtype: int64"
      ]
     },
     "execution_count": 117,
     "metadata": {},
     "output_type": "execute_result"
    }
   ],
   "source": [
    "df['city'].value_counts().nlargest(5)"
   ]
  },
  {
   "cell_type": "code",
   "execution_count": 118,
   "id": "f73201b4",
   "metadata": {},
   "outputs": [
    {
     "data": {
      "text/plain": [
       "<AxesSubplot:>"
      ]
     },
     "execution_count": 118,
     "metadata": {},
     "output_type": "execute_result"
    },
    {
     "data": {
      "image/png": "[encoded data removed]",
      "text/plain": [
       "<Figure size 720x360 with 1 Axes>"
      ]
     },
     "metadata": {
      "needs_background": "light"
     },
     "output_type": "display_data"
    }
   ],
   "source": [
    "df['city'].value_counts().nlargest(5).plot(kind='bar', figsize=(10,5),color=['purple'])"
   ]
  },
  {
   "cell_type": "markdown",
   "id": "c28562f2",
   "metadata": {},
   "source": [
    "## Conclusion"
   ]
  },
  {
   "cell_type": "markdown",
   "id": "fa48d7e1",
   "metadata": {},
   "source": [
    "The insights gathered from the dataset includes:\n",
    "Number of terrorism attacks were increases rapidly after 2010.\n",
    "Out of total terrorism attacks very few attacks were failed and almost all the terrorism attacks succeded.\n",
    "Top five cities with highest number of attacks are Baghdad,Karachi,Lima and Mosul. Compare to all the other countries number of terrorist attacks in Baghdad is very high. "
   ]
  }
 ],
 "metadata": {
  "kernelspec": {
   "display_name": "Python 3",
   "language": "python",
   "name": "python3"
  },
  "language_info": {
   "codemirror_mode": {
    "name": "ipython",
    "version": 3
   },
   "file_extension": ".py",
   "mimetype": "text/x-python",
   "name": "python",
   "nbconvert_exporter": "python",
   "pygments_lexer": "ipython3",
   "version": "3.8.8"
  }
 },
 "nbformat": 4,
 "nbformat_minor": 5
}
